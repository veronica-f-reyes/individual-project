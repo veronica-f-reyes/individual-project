{
 "cells": [
  {
   "cell_type": "markdown",
   "id": "1389951a",
   "metadata": {},
   "source": [
    "#### Individual Class Project\n",
    "\n",
    "## Predicting Major League Baseball Game Outcomes\n",
    "***"
   ]
  },
  {
   "cell_type": "markdown",
   "id": "932cfaa7",
   "metadata": {},
   "source": [
    "## Executive Summary:\n",
    "\n",
    "#### Overview:\n",
    "\n",
    "\n",
    "#### Project Goals:\n",
    "\n",
    "\n",
    "#### Outline of Process: \n",
    "\n",
    "- The plan for this project is to do the following:\n",
    "    - Acquire data from baseball-reference.com.\n",
    "    - Prepare data by dropping columns, renaming columns, handling null values and creating new columns.\n",
    "    - Explore data by visualizing data and running hypothesis tests on key features.\n",
    "    - Create machine learning models to predict wins.\n",
    "    - Test best performing model on out of sample data to evaluate performance\n",
    "\n",
    "#### Conclusion & Key Findings:\n",
    "\n",
    "\n",
    "#### Recommendations & Next Steps:\n",
    "\n",
    "***"
   ]
  },
  {
   "cell_type": "markdown",
   "id": "d52cb25f",
   "metadata": {},
   "source": [
    "## Acquire \n",
    "\n",
    "In this section we will acquire the Major League Baseball data using `acquire.py` file.\n",
    "\n",
    "- All data is acquired from batting game logs for all 30 Major League Baseball teams for the year 2021\n",
    "- All batting logs were combined into one .csv file\n",
    "- Data source is baseball-reference.com"
   ]
  },
  {
   "cell_type": "markdown",
   "id": "d69200c1",
   "metadata": {},
   "source": [
    "#### Read data from local .csv into a dataframe to use for exploration and modeling"
   ]
  },
  {
   "cell_type": "code",
   "execution_count": 1,
   "id": "ba56de66",
   "metadata": {},
   "outputs": [],
   "source": [
    "#Disable warnings\n",
    "import warnings\n",
    "warnings.filterwarnings('ignore')\n",
    "\n",
    "#Import libraries \n",
    "import pandas as pd\n",
    "import numpy as np\n",
    "\n",
    "#Import custom libraries\n",
    "import acquire\n",
    "import prepare\n",
    "import explore\n",
    "\n",
    "#Import libraries for graphing\n",
    "import matplotlib.pyplot as plt\n",
    "import matplotlib.ticker as ticker\n",
    "import seaborn as sns"
   ]
  },
  {
   "cell_type": "code",
   "execution_count": 2,
   "id": "facf7cd2",
   "metadata": {},
   "outputs": [
    {
     "data": {
      "text/html": [
       "<div>\n",
       "<style scoped>\n",
       "    .dataframe tbody tr th:only-of-type {\n",
       "        vertical-align: middle;\n",
       "    }\n",
       "\n",
       "    .dataframe tbody tr th {\n",
       "        vertical-align: top;\n",
       "    }\n",
       "\n",
       "    .dataframe thead th {\n",
       "        text-align: right;\n",
       "    }\n",
       "</style>\n",
       "<table border=\"1\" class=\"dataframe\">\n",
       "  <thead>\n",
       "    <tr style=\"text-align: right;\">\n",
       "      <th></th>\n",
       "      <th>Team</th>\n",
       "      <th>Rk</th>\n",
       "      <th>Gtm</th>\n",
       "      <th>Date</th>\n",
       "      <th>Unnamed: 4</th>\n",
       "      <th>Opp</th>\n",
       "      <th>Rslt</th>\n",
       "      <th>PA</th>\n",
       "      <th>AB</th>\n",
       "      <th>R</th>\n",
       "      <th>...</th>\n",
       "      <th>SB</th>\n",
       "      <th>CS</th>\n",
       "      <th>BA</th>\n",
       "      <th>OBP</th>\n",
       "      <th>SLG</th>\n",
       "      <th>OPS</th>\n",
       "      <th>LOB</th>\n",
       "      <th>#</th>\n",
       "      <th>Thr</th>\n",
       "      <th>Opp. Starter (GmeSc)</th>\n",
       "    </tr>\n",
       "  </thead>\n",
       "  <tbody>\n",
       "    <tr>\n",
       "      <th>0</th>\n",
       "      <td>Houston Astros</td>\n",
       "      <td>1</td>\n",
       "      <td>1</td>\n",
       "      <td>1-Apr</td>\n",
       "      <td>@</td>\n",
       "      <td>OAK</td>\n",
       "      <td>W,8-1</td>\n",
       "      <td>43</td>\n",
       "      <td>33</td>\n",
       "      <td>8</td>\n",
       "      <td>...</td>\n",
       "      <td>0</td>\n",
       "      <td>0</td>\n",
       "      <td>0.273</td>\n",
       "      <td>0.395</td>\n",
       "      <td>0.545</td>\n",
       "      <td>0.941</td>\n",
       "      <td>8</td>\n",
       "      <td>11</td>\n",
       "      <td>R</td>\n",
       "      <td>C.Bassitt(49)</td>\n",
       "    </tr>\n",
       "    <tr>\n",
       "      <th>1</th>\n",
       "      <td>Houston Astros</td>\n",
       "      <td>2</td>\n",
       "      <td>2</td>\n",
       "      <td>2-Apr</td>\n",
       "      <td>@</td>\n",
       "      <td>OAK</td>\n",
       "      <td>W,9-5</td>\n",
       "      <td>45</td>\n",
       "      <td>40</td>\n",
       "      <td>9</td>\n",
       "      <td>...</td>\n",
       "      <td>0</td>\n",
       "      <td>0</td>\n",
       "      <td>0.315</td>\n",
       "      <td>0.409</td>\n",
       "      <td>0.575</td>\n",
       "      <td>0.984</td>\n",
       "      <td>9</td>\n",
       "      <td>9</td>\n",
       "      <td>L</td>\n",
       "      <td>J.Luzardo(38)</td>\n",
       "    </tr>\n",
       "    <tr>\n",
       "      <th>2</th>\n",
       "      <td>Houston Astros</td>\n",
       "      <td>3</td>\n",
       "      <td>3</td>\n",
       "      <td>3-Apr</td>\n",
       "      <td>@</td>\n",
       "      <td>OAK</td>\n",
       "      <td>W,9-1</td>\n",
       "      <td>43</td>\n",
       "      <td>38</td>\n",
       "      <td>9</td>\n",
       "      <td>...</td>\n",
       "      <td>0</td>\n",
       "      <td>0</td>\n",
       "      <td>0.324</td>\n",
       "      <td>0.405</td>\n",
       "      <td>0.550</td>\n",
       "      <td>0.954</td>\n",
       "      <td>7</td>\n",
       "      <td>10</td>\n",
       "      <td>L</td>\n",
       "      <td>C.Irvin(34)</td>\n",
       "    </tr>\n",
       "    <tr>\n",
       "      <th>3</th>\n",
       "      <td>Houston Astros</td>\n",
       "      <td>4</td>\n",
       "      <td>4</td>\n",
       "      <td>4-Apr</td>\n",
       "      <td>@</td>\n",
       "      <td>OAK</td>\n",
       "      <td>W,9-2</td>\n",
       "      <td>40</td>\n",
       "      <td>36</td>\n",
       "      <td>9</td>\n",
       "      <td>...</td>\n",
       "      <td>0</td>\n",
       "      <td>1</td>\n",
       "      <td>0.320</td>\n",
       "      <td>0.398</td>\n",
       "      <td>0.565</td>\n",
       "      <td>0.962</td>\n",
       "      <td>4</td>\n",
       "      <td>10</td>\n",
       "      <td>L</td>\n",
       "      <td>S.Manaea(33)</td>\n",
       "    </tr>\n",
       "    <tr>\n",
       "      <th>4</th>\n",
       "      <td>Houston Astros</td>\n",
       "      <td>5</td>\n",
       "      <td>5</td>\n",
       "      <td>5-Apr</td>\n",
       "      <td>@</td>\n",
       "      <td>LAA</td>\n",
       "      <td>L,6-7</td>\n",
       "      <td>44</td>\n",
       "      <td>39</td>\n",
       "      <td>6</td>\n",
       "      <td>...</td>\n",
       "      <td>0</td>\n",
       "      <td>0</td>\n",
       "      <td>0.312</td>\n",
       "      <td>0.391</td>\n",
       "      <td>0.527</td>\n",
       "      <td>0.918</td>\n",
       "      <td>11</td>\n",
       "      <td>11</td>\n",
       "      <td>L</td>\n",
       "      <td>J.Quintana(36)</td>\n",
       "    </tr>\n",
       "  </tbody>\n",
       "</table>\n",
       "<p>5 rows × 33 columns</p>\n",
       "</div>"
      ],
      "text/plain": [
       "             Team  Rk  Gtm   Date Unnamed: 4  Opp   Rslt  PA  AB  R  ...  SB  \\\n",
       "0  Houston Astros   1    1  1-Apr          @  OAK  W,8-1  43  33  8  ...   0   \n",
       "1  Houston Astros   2    2  2-Apr          @  OAK  W,9-5  45  40  9  ...   0   \n",
       "2  Houston Astros   3    3  3-Apr          @  OAK  W,9-1  43  38  9  ...   0   \n",
       "3  Houston Astros   4    4  4-Apr          @  OAK  W,9-2  40  36  9  ...   0   \n",
       "4  Houston Astros   5    5  5-Apr          @  LAA  L,6-7  44  39  6  ...   0   \n",
       "\n",
       "   CS     BA    OBP    SLG    OPS  LOB   #  Thr  Opp. Starter (GmeSc)  \n",
       "0   0  0.273  0.395  0.545  0.941    8  11    R         C.Bassitt(49)  \n",
       "1   0  0.315  0.409  0.575  0.984    9   9    L         J.Luzardo(38)  \n",
       "2   0  0.324  0.405  0.550  0.954    7  10    L           C.Irvin(34)  \n",
       "3   1  0.320  0.398  0.565  0.962    4  10    L          S.Manaea(33)  \n",
       "4   0  0.312  0.391  0.527  0.918   11  11    L        J.Quintana(36)  \n",
       "\n",
       "[5 rows x 33 columns]"
      ]
     },
     "execution_count": 2,
     "metadata": {},
     "output_type": "execute_result"
    }
   ],
   "source": [
    "df = acquire.get_batting_log_data()\n",
    "df.head()"
   ]
  },
  {
   "cell_type": "markdown",
   "id": "60bcca6d",
   "metadata": {},
   "source": [
    "*** \n",
    "\n",
    "## Prepare\n",
    "\n",
    " In this section we will clean and prepare data the obtained to use for exploration and modeling using the function in `prepare.py` file."
   ]
  },
  {
   "cell_type": "code",
   "execution_count": 3,
   "id": "78254c73",
   "metadata": {},
   "outputs": [
    {
     "data": {
      "text/html": [
       "<div>\n",
       "<style scoped>\n",
       "    .dataframe tbody tr th:only-of-type {\n",
       "        vertical-align: middle;\n",
       "    }\n",
       "\n",
       "    .dataframe tbody tr th {\n",
       "        vertical-align: top;\n",
       "    }\n",
       "\n",
       "    .dataframe thead th {\n",
       "        text-align: right;\n",
       "    }\n",
       "</style>\n",
       "<table border=\"1\" class=\"dataframe\">\n",
       "  <thead>\n",
       "    <tr style=\"text-align: right;\">\n",
       "      <th></th>\n",
       "      <th>Team</th>\n",
       "      <th>Date</th>\n",
       "      <th>Opp</th>\n",
       "      <th>Rslt</th>\n",
       "      <th>plate_app</th>\n",
       "      <th>at_bats</th>\n",
       "      <th>runs_scored</th>\n",
       "      <th>hits</th>\n",
       "      <th>doubles</th>\n",
       "      <th>triples</th>\n",
       "      <th>...</th>\n",
       "      <th>batting_avg</th>\n",
       "      <th>OBP</th>\n",
       "      <th>SLG</th>\n",
       "      <th>OPS</th>\n",
       "      <th>left_on_base</th>\n",
       "      <th>num_players_used</th>\n",
       "      <th>handedness_opp_pitcher</th>\n",
       "      <th>Opp. Starter (GmeSc)</th>\n",
       "      <th>is_away</th>\n",
       "      <th>is_win</th>\n",
       "    </tr>\n",
       "  </thead>\n",
       "  <tbody>\n",
       "    <tr>\n",
       "      <th>0</th>\n",
       "      <td>Houston Astros</td>\n",
       "      <td>1-Apr</td>\n",
       "      <td>OAK</td>\n",
       "      <td>W,8-1</td>\n",
       "      <td>43</td>\n",
       "      <td>33</td>\n",
       "      <td>8</td>\n",
       "      <td>9</td>\n",
       "      <td>3</td>\n",
       "      <td>0</td>\n",
       "      <td>...</td>\n",
       "      <td>0.273</td>\n",
       "      <td>0.395</td>\n",
       "      <td>0.545</td>\n",
       "      <td>0.941</td>\n",
       "      <td>8</td>\n",
       "      <td>11</td>\n",
       "      <td>R</td>\n",
       "      <td>C.Bassitt(49)</td>\n",
       "      <td>1</td>\n",
       "      <td>1</td>\n",
       "    </tr>\n",
       "    <tr>\n",
       "      <th>1</th>\n",
       "      <td>Houston Astros</td>\n",
       "      <td>2-Apr</td>\n",
       "      <td>OAK</td>\n",
       "      <td>W,9-5</td>\n",
       "      <td>45</td>\n",
       "      <td>40</td>\n",
       "      <td>9</td>\n",
       "      <td>14</td>\n",
       "      <td>4</td>\n",
       "      <td>0</td>\n",
       "      <td>...</td>\n",
       "      <td>0.315</td>\n",
       "      <td>0.409</td>\n",
       "      <td>0.575</td>\n",
       "      <td>0.984</td>\n",
       "      <td>9</td>\n",
       "      <td>9</td>\n",
       "      <td>L</td>\n",
       "      <td>J.Luzardo(38)</td>\n",
       "      <td>1</td>\n",
       "      <td>1</td>\n",
       "    </tr>\n",
       "    <tr>\n",
       "      <th>2</th>\n",
       "      <td>Houston Astros</td>\n",
       "      <td>3-Apr</td>\n",
       "      <td>OAK</td>\n",
       "      <td>W,9-1</td>\n",
       "      <td>43</td>\n",
       "      <td>38</td>\n",
       "      <td>9</td>\n",
       "      <td>13</td>\n",
       "      <td>3</td>\n",
       "      <td>0</td>\n",
       "      <td>...</td>\n",
       "      <td>0.324</td>\n",
       "      <td>0.405</td>\n",
       "      <td>0.550</td>\n",
       "      <td>0.954</td>\n",
       "      <td>7</td>\n",
       "      <td>10</td>\n",
       "      <td>L</td>\n",
       "      <td>C.Irvin(34)</td>\n",
       "      <td>1</td>\n",
       "      <td>1</td>\n",
       "    </tr>\n",
       "    <tr>\n",
       "      <th>3</th>\n",
       "      <td>Houston Astros</td>\n",
       "      <td>4-Apr</td>\n",
       "      <td>OAK</td>\n",
       "      <td>W,9-2</td>\n",
       "      <td>40</td>\n",
       "      <td>36</td>\n",
       "      <td>9</td>\n",
       "      <td>11</td>\n",
       "      <td>2</td>\n",
       "      <td>0</td>\n",
       "      <td>...</td>\n",
       "      <td>0.320</td>\n",
       "      <td>0.398</td>\n",
       "      <td>0.565</td>\n",
       "      <td>0.962</td>\n",
       "      <td>4</td>\n",
       "      <td>10</td>\n",
       "      <td>L</td>\n",
       "      <td>S.Manaea(33)</td>\n",
       "      <td>1</td>\n",
       "      <td>1</td>\n",
       "    </tr>\n",
       "    <tr>\n",
       "      <th>4</th>\n",
       "      <td>Houston Astros</td>\n",
       "      <td>5-Apr</td>\n",
       "      <td>LAA</td>\n",
       "      <td>L,6-7</td>\n",
       "      <td>44</td>\n",
       "      <td>39</td>\n",
       "      <td>6</td>\n",
       "      <td>11</td>\n",
       "      <td>1</td>\n",
       "      <td>0</td>\n",
       "      <td>...</td>\n",
       "      <td>0.312</td>\n",
       "      <td>0.391</td>\n",
       "      <td>0.527</td>\n",
       "      <td>0.918</td>\n",
       "      <td>11</td>\n",
       "      <td>11</td>\n",
       "      <td>L</td>\n",
       "      <td>J.Quintana(36)</td>\n",
       "      <td>1</td>\n",
       "      <td>0</td>\n",
       "    </tr>\n",
       "  </tbody>\n",
       "</table>\n",
       "<p>5 rows × 32 columns</p>\n",
       "</div>"
      ],
      "text/plain": [
       "             Team   Date  Opp   Rslt  plate_app  at_bats  runs_scored  hits  \\\n",
       "0  Houston Astros  1-Apr  OAK  W,8-1         43       33            8     9   \n",
       "1  Houston Astros  2-Apr  OAK  W,9-5         45       40            9    14   \n",
       "2  Houston Astros  3-Apr  OAK  W,9-1         43       38            9    13   \n",
       "3  Houston Astros  4-Apr  OAK  W,9-2         40       36            9    11   \n",
       "4  Houston Astros  5-Apr  LAA  L,6-7         44       39            6    11   \n",
       "\n",
       "   doubles  triples  ...  batting_avg    OBP    SLG    OPS  left_on_base  \\\n",
       "0        3        0  ...        0.273  0.395  0.545  0.941             8   \n",
       "1        4        0  ...        0.315  0.409  0.575  0.984             9   \n",
       "2        3        0  ...        0.324  0.405  0.550  0.954             7   \n",
       "3        2        0  ...        0.320  0.398  0.565  0.962             4   \n",
       "4        1        0  ...        0.312  0.391  0.527  0.918            11   \n",
       "\n",
       "   num_players_used  handedness_opp_pitcher  Opp. Starter (GmeSc)  is_away  \\\n",
       "0                11                       R         C.Bassitt(49)        1   \n",
       "1                 9                       L         J.Luzardo(38)        1   \n",
       "2                10                       L           C.Irvin(34)        1   \n",
       "3                10                       L          S.Manaea(33)        1   \n",
       "4                11                       L        J.Quintana(36)        1   \n",
       "\n",
       "   is_win  \n",
       "0       1  \n",
       "1       1  \n",
       "2       1  \n",
       "3       1  \n",
       "4       0  \n",
       "\n",
       "[5 rows x 32 columns]"
      ]
     },
     "execution_count": 3,
     "metadata": {},
     "output_type": "execute_result"
    }
   ],
   "source": [
    "df = prepare.prepare_data()\n",
    "df.head()"
   ]
  },
  {
   "cell_type": "code",
   "execution_count": 4,
   "id": "1944f17a",
   "metadata": {},
   "outputs": [
    {
     "data": {
      "text/html": [
       "<div>\n",
       "<style scoped>\n",
       "    .dataframe tbody tr th:only-of-type {\n",
       "        vertical-align: middle;\n",
       "    }\n",
       "\n",
       "    .dataframe tbody tr th {\n",
       "        vertical-align: top;\n",
       "    }\n",
       "\n",
       "    .dataframe thead th {\n",
       "        text-align: right;\n",
       "    }\n",
       "</style>\n",
       "<table border=\"1\" class=\"dataframe\">\n",
       "  <thead>\n",
       "    <tr style=\"text-align: right;\">\n",
       "      <th></th>\n",
       "      <th>Team</th>\n",
       "      <th>Date</th>\n",
       "      <th>Opp</th>\n",
       "      <th>Rslt</th>\n",
       "      <th>plate_app</th>\n",
       "      <th>at_bats</th>\n",
       "      <th>runs_scored</th>\n",
       "      <th>hits</th>\n",
       "      <th>doubles</th>\n",
       "      <th>triples</th>\n",
       "      <th>...</th>\n",
       "      <th>batting_avg</th>\n",
       "      <th>OBP</th>\n",
       "      <th>SLG</th>\n",
       "      <th>OPS</th>\n",
       "      <th>left_on_base</th>\n",
       "      <th>num_players_used</th>\n",
       "      <th>handedness_opp_pitcher</th>\n",
       "      <th>Opp. Starter (GmeSc)</th>\n",
       "      <th>is_away</th>\n",
       "      <th>is_win</th>\n",
       "    </tr>\n",
       "  </thead>\n",
       "  <tbody>\n",
       "    <tr>\n",
       "      <th>4853</th>\n",
       "      <td>St. Louis Cardinals</td>\n",
       "      <td>29-Sep</td>\n",
       "      <td>MIL</td>\n",
       "      <td>L,0-4</td>\n",
       "      <td>33</td>\n",
       "      <td>28</td>\n",
       "      <td>0</td>\n",
       "      <td>3</td>\n",
       "      <td>1</td>\n",
       "      <td>0</td>\n",
       "      <td>...</td>\n",
       "      <td>0.244</td>\n",
       "      <td>0.313</td>\n",
       "      <td>0.411</td>\n",
       "      <td>0.724</td>\n",
       "      <td>6</td>\n",
       "      <td>13</td>\n",
       "      <td>R</td>\n",
       "      <td>A.Houser(60)</td>\n",
       "      <td>0</td>\n",
       "      <td>0</td>\n",
       "    </tr>\n",
       "    <tr>\n",
       "      <th>4854</th>\n",
       "      <td>St. Louis Cardinals</td>\n",
       "      <td>30-Sep</td>\n",
       "      <td>MIL</td>\n",
       "      <td>W,4-3</td>\n",
       "      <td>30</td>\n",
       "      <td>27</td>\n",
       "      <td>4</td>\n",
       "      <td>5</td>\n",
       "      <td>1</td>\n",
       "      <td>0</td>\n",
       "      <td>...</td>\n",
       "      <td>0.243</td>\n",
       "      <td>0.313</td>\n",
       "      <td>0.411</td>\n",
       "      <td>0.724</td>\n",
       "      <td>2</td>\n",
       "      <td>14</td>\n",
       "      <td>L</td>\n",
       "      <td>B.Anderson(54)</td>\n",
       "      <td>0</td>\n",
       "      <td>1</td>\n",
       "    </tr>\n",
       "    <tr>\n",
       "      <th>4855</th>\n",
       "      <td>St. Louis Cardinals</td>\n",
       "      <td>1-Oct</td>\n",
       "      <td>CHC</td>\n",
       "      <td>W,4-3</td>\n",
       "      <td>38</td>\n",
       "      <td>34</td>\n",
       "      <td>4</td>\n",
       "      <td>9</td>\n",
       "      <td>1</td>\n",
       "      <td>0</td>\n",
       "      <td>...</td>\n",
       "      <td>0.244</td>\n",
       "      <td>0.313</td>\n",
       "      <td>0.411</td>\n",
       "      <td>0.724</td>\n",
       "      <td>8</td>\n",
       "      <td>17</td>\n",
       "      <td>R</td>\n",
       "      <td>C.Abbott(53)</td>\n",
       "      <td>0</td>\n",
       "      <td>1</td>\n",
       "    </tr>\n",
       "    <tr>\n",
       "      <th>4856</th>\n",
       "      <td>St. Louis Cardinals</td>\n",
       "      <td>2-Oct</td>\n",
       "      <td>CHC</td>\n",
       "      <td>L,5-6</td>\n",
       "      <td>39</td>\n",
       "      <td>34</td>\n",
       "      <td>5</td>\n",
       "      <td>8</td>\n",
       "      <td>2</td>\n",
       "      <td>1</td>\n",
       "      <td>...</td>\n",
       "      <td>0.243</td>\n",
       "      <td>0.313</td>\n",
       "      <td>0.412</td>\n",
       "      <td>0.725</td>\n",
       "      <td>7</td>\n",
       "      <td>15</td>\n",
       "      <td>R</td>\n",
       "      <td>A.Sampson(57)</td>\n",
       "      <td>0</td>\n",
       "      <td>0</td>\n",
       "    </tr>\n",
       "    <tr>\n",
       "      <th>4857</th>\n",
       "      <td>St. Louis Cardinals</td>\n",
       "      <td>3-Oct</td>\n",
       "      <td>CHC</td>\n",
       "      <td>L,2-3</td>\n",
       "      <td>29</td>\n",
       "      <td>24</td>\n",
       "      <td>2</td>\n",
       "      <td>6</td>\n",
       "      <td>0</td>\n",
       "      <td>0</td>\n",
       "      <td>...</td>\n",
       "      <td>0.244</td>\n",
       "      <td>0.313</td>\n",
       "      <td>0.412</td>\n",
       "      <td>0.725</td>\n",
       "      <td>6</td>\n",
       "      <td>16</td>\n",
       "      <td>R</td>\n",
       "      <td>A.Mills(45)</td>\n",
       "      <td>0</td>\n",
       "      <td>0</td>\n",
       "    </tr>\n",
       "  </tbody>\n",
       "</table>\n",
       "<p>5 rows × 32 columns</p>\n",
       "</div>"
      ],
      "text/plain": [
       "                     Team    Date  Opp   Rslt  plate_app  at_bats  \\\n",
       "4853  St. Louis Cardinals  29-Sep  MIL  L,0-4         33       28   \n",
       "4854  St. Louis Cardinals  30-Sep  MIL  W,4-3         30       27   \n",
       "4855  St. Louis Cardinals   1-Oct  CHC  W,4-3         38       34   \n",
       "4856  St. Louis Cardinals   2-Oct  CHC  L,5-6         39       34   \n",
       "4857  St. Louis Cardinals   3-Oct  CHC  L,2-3         29       24   \n",
       "\n",
       "      runs_scored  hits  doubles  triples  ...  batting_avg    OBP    SLG  \\\n",
       "4853            0     3        1        0  ...        0.244  0.313  0.411   \n",
       "4854            4     5        1        0  ...        0.243  0.313  0.411   \n",
       "4855            4     9        1        0  ...        0.244  0.313  0.411   \n",
       "4856            5     8        2        1  ...        0.243  0.313  0.412   \n",
       "4857            2     6        0        0  ...        0.244  0.313  0.412   \n",
       "\n",
       "        OPS  left_on_base  num_players_used  handedness_opp_pitcher  \\\n",
       "4853  0.724             6                13                       R   \n",
       "4854  0.724             2                14                       L   \n",
       "4855  0.724             8                17                       R   \n",
       "4856  0.725             7                15                       R   \n",
       "4857  0.725             6                16                       R   \n",
       "\n",
       "      Opp. Starter (GmeSc)  is_away  is_win  \n",
       "4853          A.Houser(60)        0       0  \n",
       "4854        B.Anderson(54)        0       1  \n",
       "4855          C.Abbott(53)        0       1  \n",
       "4856         A.Sampson(57)        0       0  \n",
       "4857           A.Mills(45)        0       0  \n",
       "\n",
       "[5 rows x 32 columns]"
      ]
     },
     "execution_count": 4,
     "metadata": {},
     "output_type": "execute_result"
    }
   ],
   "source": [
    "df.tail()"
   ]
  },
  {
   "cell_type": "markdown",
   "id": "32040f21",
   "metadata": {},
   "source": [
    "***\n",
    "## Explore"
   ]
  },
  {
   "cell_type": "markdown",
   "id": "c2beb522",
   "metadata": {},
   "source": [
    "Now that we have acquired and prepared the baseball data, we will begin to explore it."
   ]
  },
  {
   "cell_type": "code",
   "execution_count": 5,
   "id": "1d4a1cb4",
   "metadata": {},
   "outputs": [
    {
     "name": "stdout",
     "output_type": "stream",
     "text": [
      "<class 'pandas.core.frame.DataFrame'>\n",
      "RangeIndex: 4858 entries, 0 to 4857\n",
      "Data columns (total 32 columns):\n",
      " #   Column                  Non-Null Count  Dtype  \n",
      "---  ------                  --------------  -----  \n",
      " 0   Team                    4858 non-null   object \n",
      " 1   Date                    4858 non-null   object \n",
      " 2   Opp                     4858 non-null   object \n",
      " 3   Rslt                    4858 non-null   object \n",
      " 4   plate_app               4858 non-null   int64  \n",
      " 5   at_bats                 4858 non-null   int64  \n",
      " 6   runs_scored             4858 non-null   int64  \n",
      " 7   hits                    4858 non-null   int64  \n",
      " 8   doubles                 4858 non-null   int64  \n",
      " 9   triples                 4858 non-null   int64  \n",
      " 10  HR                      4858 non-null   int64  \n",
      " 11  RBI                     4858 non-null   int64  \n",
      " 12  bases_on_balls          4858 non-null   int64  \n",
      " 13  intentional_bb          4858 non-null   int64  \n",
      " 14  strikeouts              4858 non-null   int64  \n",
      " 15  hit_by_pitch            4858 non-null   int64  \n",
      " 16  sac_hits                4858 non-null   int64  \n",
      " 17  sac_flies               4858 non-null   int64  \n",
      " 18  reached_on_error        4858 non-null   int64  \n",
      " 19  double_plays            4858 non-null   int64  \n",
      " 20  stolen_bases            4858 non-null   int64  \n",
      " 21  caught_stealing         4858 non-null   int64  \n",
      " 22  batting_avg             4858 non-null   float64\n",
      " 23  OBP                     4858 non-null   float64\n",
      " 24  SLG                     4858 non-null   float64\n",
      " 25  OPS                     4858 non-null   float64\n",
      " 26  left_on_base            4858 non-null   int64  \n",
      " 27  num_players_used        4858 non-null   int64  \n",
      " 28  handedness_opp_pitcher  4858 non-null   object \n",
      " 29  Opp. Starter (GmeSc)    4858 non-null   object \n",
      " 30  is_away                 4858 non-null   int64  \n",
      " 31  is_win                  4858 non-null   int64  \n",
      "dtypes: float64(4), int64(22), object(6)\n",
      "memory usage: 1.2+ MB\n"
     ]
    }
   ],
   "source": [
    "df.info()"
   ]
  },
  {
   "cell_type": "markdown",
   "id": "0bc58c8a",
   "metadata": {},
   "source": [
    " - Take a look at the values in the dataframe "
   ]
  },
  {
   "cell_type": "code",
   "execution_count": 6,
   "id": "57f27a4f",
   "metadata": {},
   "outputs": [
    {
     "data": {
      "text/html": [
       "<div>\n",
       "<style scoped>\n",
       "    .dataframe tbody tr th:only-of-type {\n",
       "        vertical-align: middle;\n",
       "    }\n",
       "\n",
       "    .dataframe tbody tr th {\n",
       "        vertical-align: top;\n",
       "    }\n",
       "\n",
       "    .dataframe thead th {\n",
       "        text-align: right;\n",
       "    }\n",
       "</style>\n",
       "<table border=\"1\" class=\"dataframe\">\n",
       "  <thead>\n",
       "    <tr style=\"text-align: right;\">\n",
       "      <th></th>\n",
       "      <th>count</th>\n",
       "      <th>mean</th>\n",
       "      <th>std</th>\n",
       "      <th>min</th>\n",
       "      <th>25%</th>\n",
       "      <th>50%</th>\n",
       "      <th>75%</th>\n",
       "      <th>max</th>\n",
       "    </tr>\n",
       "  </thead>\n",
       "  <tbody>\n",
       "    <tr>\n",
       "      <th>plate_app</th>\n",
       "      <td>4858.0</td>\n",
       "      <td>37.426513</td>\n",
       "      <td>4.970414</td>\n",
       "      <td>21.000</td>\n",
       "      <td>34.000</td>\n",
       "      <td>37.000</td>\n",
       "      <td>40.000</td>\n",
       "      <td>63.000</td>\n",
       "    </tr>\n",
       "    <tr>\n",
       "      <th>at_bats</th>\n",
       "      <td>4858.0</td>\n",
       "      <td>33.334911</td>\n",
       "      <td>4.051859</td>\n",
       "      <td>17.000</td>\n",
       "      <td>31.000</td>\n",
       "      <td>33.000</td>\n",
       "      <td>36.000</td>\n",
       "      <td>57.000</td>\n",
       "    </tr>\n",
       "    <tr>\n",
       "      <th>runs_scored</th>\n",
       "      <td>4858.0</td>\n",
       "      <td>4.530671</td>\n",
       "      <td>3.184529</td>\n",
       "      <td>0.000</td>\n",
       "      <td>2.000</td>\n",
       "      <td>4.000</td>\n",
       "      <td>6.000</td>\n",
       "      <td>24.000</td>\n",
       "    </tr>\n",
       "    <tr>\n",
       "      <th>hits</th>\n",
       "      <td>4858.0</td>\n",
       "      <td>8.127007</td>\n",
       "      <td>3.324612</td>\n",
       "      <td>0.000</td>\n",
       "      <td>6.000</td>\n",
       "      <td>8.000</td>\n",
       "      <td>10.000</td>\n",
       "      <td>22.000</td>\n",
       "    </tr>\n",
       "    <tr>\n",
       "      <th>doubles</th>\n",
       "      <td>4858.0</td>\n",
       "      <td>1.618567</td>\n",
       "      <td>1.340229</td>\n",
       "      <td>0.000</td>\n",
       "      <td>1.000</td>\n",
       "      <td>1.000</td>\n",
       "      <td>2.000</td>\n",
       "      <td>9.000</td>\n",
       "    </tr>\n",
       "    <tr>\n",
       "      <th>triples</th>\n",
       "      <td>4858.0</td>\n",
       "      <td>0.137917</td>\n",
       "      <td>0.375708</td>\n",
       "      <td>0.000</td>\n",
       "      <td>0.000</td>\n",
       "      <td>0.000</td>\n",
       "      <td>0.000</td>\n",
       "      <td>2.000</td>\n",
       "    </tr>\n",
       "    <tr>\n",
       "      <th>HR</th>\n",
       "      <td>4858.0</td>\n",
       "      <td>1.223549</td>\n",
       "      <td>1.182470</td>\n",
       "      <td>0.000</td>\n",
       "      <td>0.000</td>\n",
       "      <td>1.000</td>\n",
       "      <td>2.000</td>\n",
       "      <td>8.000</td>\n",
       "    </tr>\n",
       "    <tr>\n",
       "      <th>RBI</th>\n",
       "      <td>4858.0</td>\n",
       "      <td>4.321326</td>\n",
       "      <td>3.103705</td>\n",
       "      <td>0.000</td>\n",
       "      <td>2.000</td>\n",
       "      <td>4.000</td>\n",
       "      <td>6.000</td>\n",
       "      <td>23.000</td>\n",
       "    </tr>\n",
       "    <tr>\n",
       "      <th>bases_on_balls</th>\n",
       "      <td>4858.0</td>\n",
       "      <td>3.251132</td>\n",
       "      <td>2.059723</td>\n",
       "      <td>0.000</td>\n",
       "      <td>2.000</td>\n",
       "      <td>3.000</td>\n",
       "      <td>4.000</td>\n",
       "      <td>14.000</td>\n",
       "    </tr>\n",
       "    <tr>\n",
       "      <th>intentional_bb</th>\n",
       "      <td>4858.0</td>\n",
       "      <td>0.144710</td>\n",
       "      <td>0.439755</td>\n",
       "      <td>0.000</td>\n",
       "      <td>0.000</td>\n",
       "      <td>0.000</td>\n",
       "      <td>0.000</td>\n",
       "      <td>8.000</td>\n",
       "    </tr>\n",
       "    <tr>\n",
       "      <th>strikeouts</th>\n",
       "      <td>4858.0</td>\n",
       "      <td>8.675381</td>\n",
       "      <td>2.902757</td>\n",
       "      <td>1.000</td>\n",
       "      <td>7.000</td>\n",
       "      <td>9.000</td>\n",
       "      <td>11.000</td>\n",
       "      <td>19.000</td>\n",
       "    </tr>\n",
       "    <tr>\n",
       "      <th>hit_by_pitch</th>\n",
       "      <td>4858.0</td>\n",
       "      <td>0.434747</td>\n",
       "      <td>0.685719</td>\n",
       "      <td>0.000</td>\n",
       "      <td>0.000</td>\n",
       "      <td>0.000</td>\n",
       "      <td>1.000</td>\n",
       "      <td>5.000</td>\n",
       "    </tr>\n",
       "    <tr>\n",
       "      <th>sac_hits</th>\n",
       "      <td>4858.0</td>\n",
       "      <td>0.157678</td>\n",
       "      <td>0.409688</td>\n",
       "      <td>0.000</td>\n",
       "      <td>0.000</td>\n",
       "      <td>0.000</td>\n",
       "      <td>0.000</td>\n",
       "      <td>4.000</td>\n",
       "    </tr>\n",
       "    <tr>\n",
       "      <th>sac_flies</th>\n",
       "      <td>4858.0</td>\n",
       "      <td>0.235282</td>\n",
       "      <td>0.487453</td>\n",
       "      <td>0.000</td>\n",
       "      <td>0.000</td>\n",
       "      <td>0.000</td>\n",
       "      <td>0.000</td>\n",
       "      <td>4.000</td>\n",
       "    </tr>\n",
       "    <tr>\n",
       "      <th>reached_on_error</th>\n",
       "      <td>4858.0</td>\n",
       "      <td>0.258748</td>\n",
       "      <td>0.521664</td>\n",
       "      <td>0.000</td>\n",
       "      <td>0.000</td>\n",
       "      <td>0.000</td>\n",
       "      <td>0.000</td>\n",
       "      <td>4.000</td>\n",
       "    </tr>\n",
       "    <tr>\n",
       "      <th>double_plays</th>\n",
       "      <td>4858.0</td>\n",
       "      <td>0.685056</td>\n",
       "      <td>0.810693</td>\n",
       "      <td>0.000</td>\n",
       "      <td>0.000</td>\n",
       "      <td>1.000</td>\n",
       "      <td>1.000</td>\n",
       "      <td>5.000</td>\n",
       "    </tr>\n",
       "    <tr>\n",
       "      <th>stolen_bases</th>\n",
       "      <td>4858.0</td>\n",
       "      <td>0.455537</td>\n",
       "      <td>0.782885</td>\n",
       "      <td>0.000</td>\n",
       "      <td>0.000</td>\n",
       "      <td>0.000</td>\n",
       "      <td>1.000</td>\n",
       "      <td>6.000</td>\n",
       "    </tr>\n",
       "    <tr>\n",
       "      <th>caught_stealing</th>\n",
       "      <td>4858.0</td>\n",
       "      <td>0.146357</td>\n",
       "      <td>0.382051</td>\n",
       "      <td>0.000</td>\n",
       "      <td>0.000</td>\n",
       "      <td>0.000</td>\n",
       "      <td>0.000</td>\n",
       "      <td>3.000</td>\n",
       "    </tr>\n",
       "    <tr>\n",
       "      <th>batting_avg</th>\n",
       "      <td>4858.0</td>\n",
       "      <td>0.238875</td>\n",
       "      <td>0.018086</td>\n",
       "      <td>0.069</td>\n",
       "      <td>0.231</td>\n",
       "      <td>0.238</td>\n",
       "      <td>0.247</td>\n",
       "      <td>0.417</td>\n",
       "    </tr>\n",
       "    <tr>\n",
       "      <th>OBP</th>\n",
       "      <td>4858.0</td>\n",
       "      <td>0.314458</td>\n",
       "      <td>0.019108</td>\n",
       "      <td>0.129</td>\n",
       "      <td>0.304</td>\n",
       "      <td>0.315</td>\n",
       "      <td>0.324</td>\n",
       "      <td>0.522</td>\n",
       "    </tr>\n",
       "    <tr>\n",
       "      <th>SLG</th>\n",
       "      <td>4858.0</td>\n",
       "      <td>0.400348</td>\n",
       "      <td>0.033317</td>\n",
       "      <td>0.100</td>\n",
       "      <td>0.381</td>\n",
       "      <td>0.399</td>\n",
       "      <td>0.420</td>\n",
       "      <td>0.675</td>\n",
       "    </tr>\n",
       "    <tr>\n",
       "      <th>OPS</th>\n",
       "      <td>4858.0</td>\n",
       "      <td>0.714809</td>\n",
       "      <td>0.048638</td>\n",
       "      <td>0.229</td>\n",
       "      <td>0.687</td>\n",
       "      <td>0.712</td>\n",
       "      <td>0.747</td>\n",
       "      <td>1.138</td>\n",
       "    </tr>\n",
       "    <tr>\n",
       "      <th>left_on_base</th>\n",
       "      <td>4858.0</td>\n",
       "      <td>6.579457</td>\n",
       "      <td>2.581185</td>\n",
       "      <td>0.000</td>\n",
       "      <td>5.000</td>\n",
       "      <td>6.000</td>\n",
       "      <td>8.000</td>\n",
       "      <td>18.000</td>\n",
       "    </tr>\n",
       "    <tr>\n",
       "      <th>num_players_used</th>\n",
       "      <td>4858.0</td>\n",
       "      <td>12.621655</td>\n",
       "      <td>3.007252</td>\n",
       "      <td>9.000</td>\n",
       "      <td>10.000</td>\n",
       "      <td>12.000</td>\n",
       "      <td>15.000</td>\n",
       "      <td>25.000</td>\n",
       "    </tr>\n",
       "    <tr>\n",
       "      <th>is_away</th>\n",
       "      <td>4858.0</td>\n",
       "      <td>0.500000</td>\n",
       "      <td>0.500051</td>\n",
       "      <td>0.000</td>\n",
       "      <td>0.000</td>\n",
       "      <td>0.500</td>\n",
       "      <td>1.000</td>\n",
       "      <td>1.000</td>\n",
       "    </tr>\n",
       "    <tr>\n",
       "      <th>is_win</th>\n",
       "      <td>4858.0</td>\n",
       "      <td>0.500000</td>\n",
       "      <td>0.500051</td>\n",
       "      <td>0.000</td>\n",
       "      <td>0.000</td>\n",
       "      <td>0.500</td>\n",
       "      <td>1.000</td>\n",
       "      <td>1.000</td>\n",
       "    </tr>\n",
       "  </tbody>\n",
       "</table>\n",
       "</div>"
      ],
      "text/plain": [
       "                   count       mean       std     min     25%     50%     75%  \\\n",
       "plate_app         4858.0  37.426513  4.970414  21.000  34.000  37.000  40.000   \n",
       "at_bats           4858.0  33.334911  4.051859  17.000  31.000  33.000  36.000   \n",
       "runs_scored       4858.0   4.530671  3.184529   0.000   2.000   4.000   6.000   \n",
       "hits              4858.0   8.127007  3.324612   0.000   6.000   8.000  10.000   \n",
       "doubles           4858.0   1.618567  1.340229   0.000   1.000   1.000   2.000   \n",
       "triples           4858.0   0.137917  0.375708   0.000   0.000   0.000   0.000   \n",
       "HR                4858.0   1.223549  1.182470   0.000   0.000   1.000   2.000   \n",
       "RBI               4858.0   4.321326  3.103705   0.000   2.000   4.000   6.000   \n",
       "bases_on_balls    4858.0   3.251132  2.059723   0.000   2.000   3.000   4.000   \n",
       "intentional_bb    4858.0   0.144710  0.439755   0.000   0.000   0.000   0.000   \n",
       "strikeouts        4858.0   8.675381  2.902757   1.000   7.000   9.000  11.000   \n",
       "hit_by_pitch      4858.0   0.434747  0.685719   0.000   0.000   0.000   1.000   \n",
       "sac_hits          4858.0   0.157678  0.409688   0.000   0.000   0.000   0.000   \n",
       "sac_flies         4858.0   0.235282  0.487453   0.000   0.000   0.000   0.000   \n",
       "reached_on_error  4858.0   0.258748  0.521664   0.000   0.000   0.000   0.000   \n",
       "double_plays      4858.0   0.685056  0.810693   0.000   0.000   1.000   1.000   \n",
       "stolen_bases      4858.0   0.455537  0.782885   0.000   0.000   0.000   1.000   \n",
       "caught_stealing   4858.0   0.146357  0.382051   0.000   0.000   0.000   0.000   \n",
       "batting_avg       4858.0   0.238875  0.018086   0.069   0.231   0.238   0.247   \n",
       "OBP               4858.0   0.314458  0.019108   0.129   0.304   0.315   0.324   \n",
       "SLG               4858.0   0.400348  0.033317   0.100   0.381   0.399   0.420   \n",
       "OPS               4858.0   0.714809  0.048638   0.229   0.687   0.712   0.747   \n",
       "left_on_base      4858.0   6.579457  2.581185   0.000   5.000   6.000   8.000   \n",
       "num_players_used  4858.0  12.621655  3.007252   9.000  10.000  12.000  15.000   \n",
       "is_away           4858.0   0.500000  0.500051   0.000   0.000   0.500   1.000   \n",
       "is_win            4858.0   0.500000  0.500051   0.000   0.000   0.500   1.000   \n",
       "\n",
       "                     max  \n",
       "plate_app         63.000  \n",
       "at_bats           57.000  \n",
       "runs_scored       24.000  \n",
       "hits              22.000  \n",
       "doubles            9.000  \n",
       "triples            2.000  \n",
       "HR                 8.000  \n",
       "RBI               23.000  \n",
       "bases_on_balls    14.000  \n",
       "intentional_bb     8.000  \n",
       "strikeouts        19.000  \n",
       "hit_by_pitch       5.000  \n",
       "sac_hits           4.000  \n",
       "sac_flies          4.000  \n",
       "reached_on_error   4.000  \n",
       "double_plays       5.000  \n",
       "stolen_bases       6.000  \n",
       "caught_stealing    3.000  \n",
       "batting_avg        0.417  \n",
       "OBP                0.522  \n",
       "SLG                0.675  \n",
       "OPS                1.138  \n",
       "left_on_base      18.000  \n",
       "num_players_used  25.000  \n",
       "is_away            1.000  \n",
       "is_win             1.000  "
      ]
     },
     "execution_count": 6,
     "metadata": {},
     "output_type": "execute_result"
    }
   ],
   "source": [
    "df.describe().T"
   ]
  },
  {
   "cell_type": "markdown",
   "id": "f537733b",
   "metadata": {},
   "source": [
    "#### Univariate Exploration"
   ]
  },
  {
   "cell_type": "code",
   "execution_count": 7,
   "id": "be3c89bc",
   "metadata": {},
   "outputs": [
    {
     "data": {
      "text/plain": [
       "2429"
      ]
     },
     "execution_count": 7,
     "metadata": {},
     "output_type": "execute_result"
    }
   ],
   "source": [
    "#Take a look at the target variable \n",
    "df.is_win.sum()"
   ]
  },
  {
   "cell_type": "markdown",
   "id": "295ca218",
   "metadata": {},
   "source": [
    "Half of the teams won and half lost, as is the case when two teams play against each other.  "
   ]
  },
  {
   "cell_type": "code",
   "execution_count": 8,
   "id": "07dd94af",
   "metadata": {},
   "outputs": [
    {
     "data": {
      "text/plain": [
       "<AxesSubplot:>"
      ]
     },
     "execution_count": 8,
     "metadata": {},
     "output_type": "execute_result"
    },
    {
     "data": {
      "image/png": "[encoded data removed]",
      "text/plain": [
       "<Figure size 432x288 with 1 Axes>"
      ]
     },
     "metadata": {
      "needs_background": "light"
     },
     "output_type": "display_data"
    }
   ],
   "source": [
    "df.is_win.hist()"
   ]
  },
  {
   "cell_type": "code",
   "execution_count": 9,
   "id": "f84118bc",
   "metadata": {},
   "outputs": [
    {
     "data": {
      "text/plain": [
       "Text(0.5, 1.0, 'Histogram of Runs Scored')"
      ]
     },
     "execution_count": 9,
     "metadata": {},
     "output_type": "execute_result"
    },
    {
     "data": {
      "image/png": "[encoded data removed]",
      "text/plain": [
       "<Figure size 432x288 with 1 Axes>"
      ]
     },
     "metadata": {
      "needs_background": "light"
     },
     "output_type": "display_data"
    }
   ],
   "source": [
    "df.runs_scored.hist()\n",
    "plt.title(\"Histogram of Runs Scored\")"
   ]
  },
  {
   "cell_type": "code",
   "execution_count": 10,
   "id": "a1c4181f",
   "metadata": {},
   "outputs": [
    {
     "data": {
      "text/plain": [
       "3     687\n",
       "2     642\n",
       "4     608\n",
       "5     560\n",
       "1     486\n",
       "6     443\n",
       "7     356\n",
       "0     299\n",
       "8     262\n",
       "9     155\n",
       "10    109\n",
       "11     84\n",
       "12     59\n",
       "13     39\n",
       "14     29\n",
       "15     17\n",
       "17      7\n",
       "16      6\n",
       "18      3\n",
       "20      3\n",
       "22      2\n",
       "24      1\n",
       "19      1\n",
       "Name: runs_scored, dtype: int64"
      ]
     },
     "execution_count": 10,
     "metadata": {},
     "output_type": "execute_result"
    }
   ],
   "source": [
    "df.runs_scored.value_counts()"
   ]
  },
  {
   "cell_type": "markdown",
   "id": "3b65efdf",
   "metadata": {},
   "source": [
    "It looks like majority of games had less than 5 runs scored"
   ]
  },
  {
   "cell_type": "code",
   "execution_count": 11,
   "id": "9aff00a1",
   "metadata": {},
   "outputs": [
    {
     "data": {
      "text/plain": [
       "Text(0.5, 1.0, 'Histogram of At Bats')"
      ]
     },
     "execution_count": 11,
     "metadata": {},
     "output_type": "execute_result"
    },
    {
     "data": {
      "image/png": "[encoded data removed]",
      "text/plain": [
       "<Figure size 432x288 with 1 Axes>"
      ]
     },
     "metadata": {
      "needs_background": "light"
     },
     "output_type": "display_data"
    }
   ],
   "source": [
    "df.at_bats.hist()\n",
    "plt.title(\"Histogram of At Bats\")"
   ]
  },
  {
   "cell_type": "code",
   "execution_count": 12,
   "id": "5118ba3b",
   "metadata": {},
   "outputs": [
    {
     "data": {
      "text/plain": [
       "(33    571\n",
       " 34    528\n",
       " 32    502\n",
       " 31    462\n",
       " 35    419\n",
       " 30    411\n",
       " 36    363\n",
       " 37    257\n",
       " 29    238\n",
       " 38    200\n",
       " 28    164\n",
       " 39    143\n",
       " 27    105\n",
       " 40     97\n",
       " 41     74\n",
       " 43     50\n",
       " 26     49\n",
       " 42     39\n",
       " 24     37\n",
       " 25     32\n",
       " 23     28\n",
       " 44     21\n",
       " 45     16\n",
       " 22     12\n",
       " 21     10\n",
       " 47      5\n",
       " 46      5\n",
       " 20      5\n",
       " 50      4\n",
       " 49      3\n",
       " 48      2\n",
       " 53      1\n",
       " 18      1\n",
       " 57      1\n",
       " 17      1\n",
       " 52      1\n",
       " 51      1\n",
       " Name: at_bats, dtype: int64,\n",
       " 17,\n",
       " 57)"
      ]
     },
     "execution_count": 12,
     "metadata": {},
     "output_type": "execute_result"
    }
   ],
   "source": [
    "df.at_bats.value_counts(), df.at_bats.min(), df.at_bats.max()"
   ]
  },
  {
   "cell_type": "markdown",
   "id": "480e3d41",
   "metadata": {},
   "source": [
    "Most games had between 30-39 player at bats."
   ]
  },
  {
   "cell_type": "code",
   "execution_count": 13,
   "id": "a1fa3f03",
   "metadata": {},
   "outputs": [
    {
     "data": {
      "text/plain": [
       "Text(0.5, 1.0, 'Histogram of Hits')"
      ]
     },
     "execution_count": 13,
     "metadata": {},
     "output_type": "execute_result"
    },
    {
     "data": {
      "image/png": "[encoded data removed]",
      "text/plain": [
       "<Figure size 432x288 with 1 Axes>"
      ]
     },
     "metadata": {
      "needs_background": "light"
     },
     "output_type": "display_data"
    }
   ],
   "source": [
    "df.hits.hist()\n",
    "plt.title(\"Histogram of Hits\")"
   ]
  },
  {
   "cell_type": "code",
   "execution_count": 14,
   "id": "a52e9dd4",
   "metadata": {},
   "outputs": [
    {
     "data": {
      "text/plain": [
       "8     588\n",
       "7     575\n",
       "6     550\n",
       "9     537\n",
       "5     459\n",
       "10    446\n",
       "11    353\n",
       "4     333\n",
       "12    246\n",
       "3     184\n",
       "13    154\n",
       "14    106\n",
       "2      84\n",
       "15     83\n",
       "16     60\n",
       "17     29\n",
       "18     23\n",
       "1      19\n",
       "0      11\n",
       "19      8\n",
       "20      5\n",
       "22      3\n",
       "21      2\n",
       "Name: hits, dtype: int64"
      ]
     },
     "execution_count": 14,
     "metadata": {},
     "output_type": "execute_result"
    }
   ],
   "source": [
    "df.hits.value_counts()"
   ]
  },
  {
   "cell_type": "code",
   "execution_count": 15,
   "id": "5c30829e",
   "metadata": {},
   "outputs": [
    {
     "data": {
      "text/plain": [
       "8.127006998764925"
      ]
     },
     "execution_count": 15,
     "metadata": {},
     "output_type": "execute_result"
    }
   ],
   "source": [
    "df.hits.mean()"
   ]
  },
  {
   "cell_type": "markdown",
   "id": "ebc60241",
   "metadata": {},
   "source": [
    "Most games had about 8 hits."
   ]
  },
  {
   "cell_type": "code",
   "execution_count": 16,
   "id": "6028d755",
   "metadata": {},
   "outputs": [
    {
     "data": {
      "text/plain": [
       "Text(0.5, 1.0, 'Histogram of Doubles ')"
      ]
     },
     "execution_count": 16,
     "metadata": {},
     "output_type": "execute_result"
    },
    {
     "data": {
      "image/png": "[encoded data removed]",
      "text/plain": [
       "<Figure size 432x288 with 1 Axes>"
      ]
     },
     "metadata": {
      "needs_background": "light"
     },
     "output_type": "display_data"
    }
   ],
   "source": [
    "df.doubles.hist()\n",
    "plt.title(\"Histogram of Doubles \")"
   ]
  },
  {
   "cell_type": "code",
   "execution_count": 17,
   "id": "f2d79f76",
   "metadata": {},
   "outputs": [
    {
     "data": {
      "text/plain": [
       "1    1532\n",
       "2    1197\n",
       "0    1034\n",
       "3     684\n",
       "4     253\n",
       "5     100\n",
       "6      39\n",
       "7      14\n",
       "8       4\n",
       "9       1\n",
       "Name: doubles, dtype: int64"
      ]
     },
     "execution_count": 17,
     "metadata": {},
     "output_type": "execute_result"
    }
   ],
   "source": [
    "df.doubles.value_counts()"
   ]
  },
  {
   "cell_type": "markdown",
   "id": "040cb65d",
   "metadata": {},
   "source": [
    "Most games had either one or two doubles."
   ]
  },
  {
   "cell_type": "code",
   "execution_count": 18,
   "id": "cedd60cf",
   "metadata": {},
   "outputs": [
    {
     "data": {
      "text/plain": [
       "Text(0.5, 1.0, 'Histogram of Triples Scored')"
      ]
     },
     "execution_count": 18,
     "metadata": {},
     "output_type": "execute_result"
    },
    {
     "data": {
      "image/png": "[encoded data removed]",
      "text/plain": [
       "<Figure size 432x288 with 1 Axes>"
      ]
     },
     "metadata": {
      "needs_background": "light"
     },
     "output_type": "display_data"
    }
   ],
   "source": [
    "df.triples.hist()\n",
    "plt.title(\"Histogram of Triples Scored\")"
   ]
  },
  {
   "cell_type": "code",
   "execution_count": 19,
   "id": "878603c6",
   "metadata": {},
   "outputs": [
    {
     "data": {
      "text/plain": [
       "0    4242\n",
       "1     562\n",
       "2      54\n",
       "Name: triples, dtype: int64"
      ]
     },
     "execution_count": 19,
     "metadata": {},
     "output_type": "execute_result"
    }
   ],
   "source": [
    "df.triples.value_counts()"
   ]
  },
  {
   "cell_type": "markdown",
   "id": "7fdab0f2",
   "metadata": {},
   "source": [
    "Most games did not have a triple in the game."
   ]
  },
  {
   "cell_type": "code",
   "execution_count": 20,
   "id": "e98bbeef",
   "metadata": {},
   "outputs": [
    {
     "data": {
      "text/plain": [
       "Text(0.5, 1.0, 'Histogram of Homeruns')"
      ]
     },
     "execution_count": 20,
     "metadata": {},
     "output_type": "execute_result"
    },
    {
     "data": {
      "image/png": "[encoded data removed]",
      "text/plain": [
       "<Figure size 432x288 with 1 Axes>"
      ]
     },
     "metadata": {
      "needs_background": "light"
     },
     "output_type": "display_data"
    }
   ],
   "source": [
    "df.HR.hist()\n",
    "plt.title(\"Histogram of Homeruns\")"
   ]
  },
  {
   "cell_type": "code",
   "execution_count": 21,
   "id": "1de57a91",
   "metadata": {},
   "outputs": [
    {
     "data": {
      "text/plain": [
       "1    1662\n",
       "0    1536\n",
       "2    1026\n",
       "3     414\n",
       "4     142\n",
       "5      56\n",
       "6      16\n",
       "7       4\n",
       "8       2\n",
       "Name: HR, dtype: int64"
      ]
     },
     "execution_count": 21,
     "metadata": {},
     "output_type": "execute_result"
    }
   ],
   "source": [
    "df.HR.value_counts()"
   ]
  },
  {
   "cell_type": "markdown",
   "id": "fafcbbc8",
   "metadata": {},
   "source": [
    "About a third of the games had one homerun. Very few games had more than 5 homeruns.  "
   ]
  },
  {
   "cell_type": "code",
   "execution_count": 22,
   "id": "60959780",
   "metadata": {},
   "outputs": [
    {
     "data": {
      "text/plain": [
       "Text(0.5, 1.0, 'Histogram of Runs Batted In')"
      ]
     },
     "execution_count": 22,
     "metadata": {},
     "output_type": "execute_result"
    },
    {
     "data": {
      "image/png": "[encoded data removed]",
      "text/plain": [
       "<Figure size 432x288 with 1 Axes>"
      ]
     },
     "metadata": {
      "needs_background": "light"
     },
     "output_type": "display_data"
    }
   ],
   "source": [
    "df.RBI.hist()\n",
    "plt.title(\"Histogram of Runs Batted In\")"
   ]
  },
  {
   "cell_type": "code",
   "execution_count": 23,
   "id": "6221ee0a",
   "metadata": {},
   "outputs": [
    {
     "data": {
      "text/plain": [
       "3     702\n",
       "2     682\n",
       "4     606\n",
       "5     564\n",
       "1     535\n",
       "6     407\n",
       "7     354\n",
       "0     327\n",
       "8     222\n",
       "9     142\n",
       "10    106\n",
       "11     72\n",
       "12     42\n",
       "13     37\n",
       "14     29\n",
       "15     11\n",
       "17      7\n",
       "16      5\n",
       "20      3\n",
       "18      2\n",
       "22      2\n",
       "23      1\n",
       "Name: RBI, dtype: int64"
      ]
     },
     "execution_count": 23,
     "metadata": {},
     "output_type": "execute_result"
    }
   ],
   "source": [
    "df.RBI.value_counts()"
   ]
  },
  {
   "cell_type": "markdown",
   "id": "4512d04e",
   "metadata": {},
   "source": [
    "Most games have between 1-5 runs batted in per game."
   ]
  },
  {
   "cell_type": "code",
   "execution_count": 24,
   "id": "c16518ba",
   "metadata": {},
   "outputs": [
    {
     "data": {
      "text/plain": [
       "Text(0.5, 1.0, 'Histogram of Batting Average')"
      ]
     },
     "execution_count": 24,
     "metadata": {},
     "output_type": "execute_result"
    },
    {
     "data": {
      "image/png": "[encoded data removed]",
      "text/plain": [
       "<Figure size 432x288 with 1 Axes>"
      ]
     },
     "metadata": {
      "needs_background": "light"
     },
     "output_type": "display_data"
    }
   ],
   "source": [
    "df.batting_avg.hist()\n",
    "plt.title(\"Histogram of Batting Average\")"
   ]
  },
  {
   "cell_type": "markdown",
   "id": "604a58b6",
   "metadata": {},
   "source": [
    "Most teams have a batting average between 0.2 and 0.25"
   ]
  },
  {
   "cell_type": "code",
   "execution_count": 25,
   "id": "729d2f6d",
   "metadata": {},
   "outputs": [
    {
     "data": {
      "text/plain": [
       "<AxesSubplot:>"
      ]
     },
     "execution_count": 25,
     "metadata": {},
     "output_type": "execute_result"
    },
    {
     "data": {
      "image/png": "[encoded data removed]",
      "text/plain": [
       "<Figure size 432x288 with 1 Axes>"
      ]
     },
     "metadata": {
      "needs_background": "light"
     },
     "output_type": "display_data"
    }
   ],
   "source": [
    "df.OBP.hist()"
   ]
  },
  {
   "cell_type": "code",
   "execution_count": 26,
   "id": "503d501c",
   "metadata": {},
   "outputs": [
    {
     "data": {
      "text/plain": [
       "0.316    185\n",
       "0.317    161\n",
       "0.315    161\n",
       "0.318    156\n",
       "0.303    151\n",
       "        ... \n",
       "0.430      1\n",
       "0.447      1\n",
       "0.240      1\n",
       "0.231      1\n",
       "0.271      1\n",
       "Name: OBP, Length: 161, dtype: int64"
      ]
     },
     "execution_count": 26,
     "metadata": {},
     "output_type": "execute_result"
    }
   ],
   "source": [
    "df.OBP.value_counts()"
   ]
  },
  {
   "cell_type": "markdown",
   "id": "8412eb85",
   "metadata": {},
   "source": [
    "Most teams have an On Base Percentage of about 0.30"
   ]
  },
  {
   "cell_type": "code",
   "execution_count": 27,
   "id": "8b99316a",
   "metadata": {},
   "outputs": [
    {
     "data": {
      "text/plain": [
       "<AxesSubplot:>"
      ]
     },
     "execution_count": 27,
     "metadata": {},
     "output_type": "execute_result"
    },
    {
     "data": {
      "image/png": "[encoded data removed]",
      "text/plain": [
       "<Figure size 432x288 with 1 Axes>"
      ]
     },
     "metadata": {
      "needs_background": "light"
     },
     "output_type": "display_data"
    }
   ],
   "source": [
    "df.OPS.hist()"
   ]
  },
  {
   "cell_type": "markdown",
   "id": "b3aac886",
   "metadata": {},
   "source": [
    "Most team have an On Base + Slugging Percentage of about 0.7."
   ]
  },
  {
   "cell_type": "code",
   "execution_count": 28,
   "id": "28b4d6ba",
   "metadata": {},
   "outputs": [
    {
     "data": {
      "text/plain": [
       "<AxesSubplot:>"
      ]
     },
     "execution_count": 28,
     "metadata": {},
     "output_type": "execute_result"
    },
    {
     "data": {
      "image/png": "[encoded data removed]",
      "text/plain": [
       "<Figure size 432x288 with 1 Axes>"
      ]
     },
     "metadata": {
      "needs_background": "light"
     },
     "output_type": "display_data"
    }
   ],
   "source": [
    "df.SLG.hist()"
   ]
  },
  {
   "cell_type": "markdown",
   "id": "64410e3e",
   "metadata": {},
   "source": [
    "Most teams have a Slugging Percentage (Total bases / At Bats) of about 0.4"
   ]
  },
  {
   "cell_type": "code",
   "execution_count": 29,
   "id": "2105d541",
   "metadata": {},
   "outputs": [
    {
     "data": {
      "text/plain": [
       "<AxesSubplot:>"
      ]
     },
     "execution_count": 29,
     "metadata": {},
     "output_type": "execute_result"
    },
    {
     "data": {
      "image/png": "[encoded data removed]",
      "text/plain": [
       "<Figure size 432x288 with 1 Axes>"
      ]
     },
     "metadata": {
      "needs_background": "light"
     },
     "output_type": "display_data"
    }
   ],
   "source": [
    "df.num_players_used.hist()"
   ]
  },
  {
   "cell_type": "markdown",
   "id": "77a462f7",
   "metadata": {},
   "source": [
    "Most games used about 10 players"
   ]
  },
  {
   "cell_type": "code",
   "execution_count": 30,
   "id": "0edf1aa3",
   "metadata": {},
   "outputs": [
    {
     "data": {
      "text/plain": [
       "2429"
      ]
     },
     "execution_count": 30,
     "metadata": {},
     "output_type": "execute_result"
    }
   ],
   "source": [
    "df.is_away.sum()"
   ]
  },
  {
   "cell_type": "markdown",
   "id": "ac6ae1ac",
   "metadata": {},
   "source": [
    "Half of the games were away.  This is expected as one team is away and one is home when two teams play against each other."
   ]
  },
  {
   "cell_type": "code",
   "execution_count": 31,
   "id": "9ce3bdf2",
   "metadata": {},
   "outputs": [
    {
     "data": {
      "text/plain": [
       "<AxesSubplot:>"
      ]
     },
     "execution_count": 31,
     "metadata": {},
     "output_type": "execute_result"
    },
    {
     "data": {
      "image/png": "[encoded data removed]",
      "text/plain": [
       "<Figure size 432x288 with 1 Axes>"
      ]
     },
     "metadata": {
      "needs_background": "light"
     },
     "output_type": "display_data"
    }
   ],
   "source": [
    "df.handedness_opp_pitcher.hist()"
   ]
  },
  {
   "cell_type": "markdown",
   "id": "9cfaf7d0",
   "metadata": {},
   "source": [
    "Most teams have right-handed pitchers."
   ]
  },
  {
   "cell_type": "markdown",
   "id": "99a22336",
   "metadata": {},
   "source": [
    "## Split Data into Train, Validate, and Test Sets\n",
    "#### Before exploring relationships between two or more variables, we will split the data into train, validate, and test sets."
   ]
  },
  {
   "cell_type": "code",
   "execution_count": 32,
   "id": "6f4c1b5a",
   "metadata": {},
   "outputs": [
    {
     "data": {
      "text/plain": [
       "((2720, 32), (1166, 32), (972, 32))"
      ]
     },
     "execution_count": 32,
     "metadata": {},
     "output_type": "execute_result"
    }
   ],
   "source": [
    "train, validate, test = prepare.train_validate_test_split(df, 'is_win', seed=123)\n",
    "train.shape, validate.shape, test.shape"
   ]
  },
  {
   "cell_type": "markdown",
   "id": "b48ee684",
   "metadata": {},
   "source": [
    "#### Bivariate Exploration"
   ]
  },
  {
   "cell_type": "code",
   "execution_count": null,
   "id": "ffd44be1",
   "metadata": {},
   "outputs": [],
   "source": []
  }
 ],
 "metadata": {
  "kernelspec": {
   "display_name": "Python 3",
   "language": "python",
   "name": "python3"
  },
  "language_info": {
   "codemirror_mode": {
    "name": "ipython",
    "version": 3
   },
   "file_extension": ".py",
   "mimetype": "text/x-python",
   "name": "python",
   "nbconvert_exporter": "python",
   "pygments_lexer": "ipython3",
   "version": "3.8.8"
  }
 },
 "nbformat": 4,
 "nbformat_minor": 5
}
